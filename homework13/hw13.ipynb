{
 "cells": [
  {
   "cell_type": "markdown",
   "id": "ca125a65-c84e-4290-adda-19bd879c64ca",
   "metadata": {},
   "source": [
    "# HW 13 - Introduction to SciPy\n",
    "ULAB - Physics and Astronomy Division\n",
    "Due **Sunday, February 16th, 2025 at 11:59 PM** on Gradescope.\n",
    "\n",
    "------"
   ]
  },
  {
   "cell_type": "markdown",
   "id": "fa734179-e202-4bf5-9dde-ef794c6a873c",
   "metadata": {},
   "source": [
    "## 0 Academic Integrity\n",
    "\n",
    "Please type the following message in the cell below as a comment. Sign with your name.\n",
    "\n",
    "------\n",
    "\n",
    "**I certify that I did not use AI tools, such as ChatGPT, to generate or write code for this assignment. All work submitted is my own and reflects my understanding of the material.**\n",
    "\n",
    "------\n"
   ]
  },
  {
   "cell_type": "code",
   "execution_count": 15,
   "id": "7f403c1b-2c4f-4896-b7b0-cb79e8419530",
   "metadata": {},
   "outputs": [],
   "source": [
    "# I certify that I did not use AI tools, such as ChatGPT, to generate or write code for this assignment. All work submitted is my own and reflects my understanding of the material.\n",
    "# Nikolas Sommerhalter"
   ]
  },
  {
   "cell_type": "markdown",
   "id": "78f62cc5-d195-42b6-a2b3-1ae4a7aff076",
   "metadata": {},
   "source": [
    "## 1 Simulate a Pendulum\n",
    "A simple pendulum follows the equation:\n",
    "\n",
    "$$\n",
    "\\frac{\\text{d}^2\\theta}{\\text{d}t^2} + \\frac{g}{L}\\sin(\\theta) = 0\n",
    "$$\n",
    "\n",
    "The goal is to **numerically solve the equation** and compare it to the small-angle approximation.\n",
    "\n",
    "***Small-Angle Approximation:** a mathematical simplification used in physics when dealing with osciallatory motion, particularly for pendulums and trigonometric funcitons in general.*\n",
    "\n",
    "Import `numpy`, `matplotlib` and `solve_ivp` in the cell below."
   ]
  },
  {
   "cell_type": "code",
   "execution_count": 17,
   "id": "ef377c0f-5ebb-4498-a75e-6e1849a714a4",
   "metadata": {},
   "outputs": [],
   "source": [
    "import numpy as np\n",
    "import matplotlib.pyplot as plt\n",
    "from scipy.integrate import solve_ivp"
   ]
  },
  {
   "cell_type": "markdown",
   "id": "ba1eecb3-5078-4f9f-bc7e-e044f8241c56",
   "metadata": {},
   "source": [
    "Define the acceleration of gravity $g$ (two significant digits is fine) and the length of the pendulum $l$ in the cell below to **1 meter**."
   ]
  },
  {
   "cell_type": "code",
   "execution_count": 19,
   "id": "126b2204-8f32-45dd-9064-1a5e9021cb88",
   "metadata": {},
   "outputs": [],
   "source": [
    "g = 9.81\n",
    "l = 1"
   ]
  },
  {
   "cell_type": "markdown",
   "id": "024b80f1-3244-4477-83cf-ed5dace64656",
   "metadata": {},
   "source": [
    "Write a **function** called `pendulum` that contain the arguments `t` and `y`. Write out the differential equation. Follow the structure Brianna gave in lecture, it's very similar.\n",
    "\n",
    "*Hint: The variable domega/dt should be equal to -(g / L) * np.sin(theta)*. I'll let you take care of the rest. "
   ]
  },
  {
   "cell_type": "code",
   "execution_count": 89,
   "id": "85e89e09-6ae0-4c74-bc22-5be920c7f5e6",
   "metadata": {},
   "outputs": [],
   "source": [
    "def pendulum(t,y):\n",
    "    theta, omega = y\n",
    "    dthetadt = omega\n",
    "    domegadt = - g/l * np.sin(theta)\n",
    "    return dthetadt, domegadt"
   ]
  },
  {
   "cell_type": "markdown",
   "id": "a9bc57c4-2597-4f34-ba55-19ffb5785491",
   "metadata": {},
   "source": [
    "Give you equation some initial conditions. Run the cell below."
   ]
  },
  {
   "cell_type": "code",
   "execution_count": 91,
   "id": "b19d57e6-6c7b-478f-9f81-27f939948bc8",
   "metadata": {},
   "outputs": [],
   "source": [
    "theta_0 = np.radians(10) # Convert 10 degrees to radians\n",
    "omega_0 = 0.0 # Initial angular velocity"
   ]
  },
  {
   "cell_type": "markdown",
   "id": "70ab6f2c-7c5c-4dc0-ae66-891fd5e8b542",
   "metadata": {},
   "source": [
    "Solve the differential equation using `solve_ivp`. Set the simulation time to **10 seconds** and the time for evaluation to **10 steps**."
   ]
  },
  {
   "cell_type": "code",
   "execution_count": 105,
   "id": "6a7f6d1f-06e7-4ab2-9c13-2df7c4db66da",
   "metadata": {},
   "outputs": [],
   "source": [
    "y0 = [theta_0, omega_0]\n",
    "t_span = (0,10)\n",
    "t_eval = np.linspace(0,10,10)\n",
    "sol = solve_ivp(pendulum, t_span, y0, t_eval = t_eval)"
   ]
  },
  {
   "cell_type": "markdown",
   "id": "000cd7e8-5534-43de-9f03-055d7fcb1299",
   "metadata": {},
   "source": [
    "Extrac the **theta** values (`sol.y`) and the **time** values (`sol.t`)."
   ]
  },
  {
   "cell_type": "code",
   "execution_count": 111,
   "id": "fba55b30-3e40-4ca2-8799-d1e4fa2ecc2e",
   "metadata": {},
   "outputs": [],
   "source": [
    "theta_values = sol.y[0]\n",
    "time_values = sol.t"
   ]
  },
  {
   "cell_type": "markdown",
   "id": "40add534-85eb-4bcf-9b3f-4808552cfe64",
   "metadata": {},
   "source": [
    "Calculate the theoretical period (aka small-angle approximation).\n",
    "\n",
    "*Hint: Use `2 * np.pi * np.sqrt(L / g)`.*"
   ]
  },
  {
   "cell_type": "code",
   "execution_count": 55,
   "id": "c9792734-41f4-4239-9654-2cb0f62845c0",
   "metadata": {},
   "outputs": [],
   "source": [
    "period = 2 * np.pi * np.sqrt(l/g)"
   ]
  },
  {
   "cell_type": "markdown",
   "id": "a9bf4d9f-c272-4be1-aad6-6bba467ccab7",
   "metadata": {},
   "source": [
    "Print out the theoretical period (small-angle approximation) to **two** significant digits."
   ]
  },
  {
   "cell_type": "code",
   "execution_count": 59,
   "id": "e7f80e4e-7b67-4214-ac14-05104d7a4335",
   "metadata": {},
   "outputs": [
    {
     "name": "stdout",
     "output_type": "stream",
     "text": [
      "2.0060666807106475\n"
     ]
    }
   ],
   "source": [
    "print(period)"
   ]
  },
  {
   "cell_type": "markdown",
   "id": "15a9117f-2740-4d31-9165-cad17029cd8c",
   "metadata": {},
   "source": [
    "Estimate the period from simulation by finding the first zero crossing. Run the cell below."
   ]
  },
  {
   "cell_type": "code",
   "execution_count": 113,
   "id": "237078dc-eb9b-447a-8658-3a79829734fd",
   "metadata": {},
   "outputs": [],
   "source": [
    "zero_crossings = np.where(np.diff(np.sign(theta_values)))[0]\n",
    "if len(zero_crossings) >= 2:\n",
    "    T_numerical = 2 * (time_values[zero_crossings[1]] - time_values[zero_crossings[0]])\n",
    "else:\n",
    "    T_numerical = None"
   ]
  },
  {
   "cell_type": "markdown",
   "id": "115b153b-a36f-425f-b820-1f721d51e842",
   "metadata": {},
   "source": [
    "Plot the results in the cell below. Add a **horizontal** line at `x=0`, give it an `x_label` of **Time (s)**, a `y_label` of **Theta (radians)** and a title."
   ]
  },
  {
   "cell_type": "code",
   "execution_count": 119,
   "id": "e9b0c18f-e3f4-46be-8961-9255aed2be94",
   "metadata": {},
   "outputs": [
    {
     "data": {
      "text/plain": [
       "Text(0.5, 1.0, 'time vs theta')"
      ]
     },
     "execution_count": 119,
     "metadata": {},
     "output_type": "execute_result"
    },
    {
     "data": {
      "image/png": "[encoded data removed]",
      "text/plain": [
       "<Figure size 640x480 with 1 Axes>"
      ]
     },
     "metadata": {},
     "output_type": "display_data"
    }
   ],
   "source": [
    "plt.scatter(time_values, theta_values)\n",
    "plt.xlabel(\"time (s)\")\n",
    "plt.ylabel(\"theta (radians)\")\n",
    "plt.title(\"time vs theta\")"
   ]
  },
  {
   "cell_type": "markdown",
   "id": "888f7aca-f543-4d35-b245-a798472f5dde",
   "metadata": {},
   "source": [
    "Print out the numerical period (what you calculated with scipy) to **four** significant digits."
   ]
  },
  {
   "cell_type": "code",
   "execution_count": 121,
   "id": "123ae3d3-b8c5-4f50-8cf5-2d10ef863091",
   "metadata": {},
   "outputs": [
    {
     "name": "stdout",
     "output_type": "stream",
     "text": [
      "2.2222222222222223\n"
     ]
    }
   ],
   "source": [
    "print(T_numerical)"
   ]
  },
  {
   "cell_type": "markdown",
   "id": "9dd2f6f0-85d2-46d1-951e-7b54ede81275",
   "metadata": {},
   "source": [
    "Compare the results between the small-angle approximation and numerical calculation. How well does the approximation match the numerical result?"
   ]
  },
  {
   "cell_type": "code",
   "execution_count": 123,
   "id": "47488d85-5213-4d33-8ccf-b7def3bdf35c",
   "metadata": {},
   "outputs": [],
   "source": [
    "# The are relatively close (0.22 off)."
   ]
  },
  {
   "cell_type": "markdown",
   "id": "1bcac5d6-a926-4e64-aa3c-30d6c67a5363",
   "metadata": {},
   "source": [
    "## 2 Using Curve_Fit with Covid-19 Data\n",
    "Import `pandas` in the cell below."
   ]
  },
  {
   "cell_type": "code",
   "execution_count": 125,
   "id": "103a9c58-c913-4b35-a98a-c23290ea2d0e",
   "metadata": {},
   "outputs": [],
   "source": [
    "import pandas as pd"
   ]
  },
  {
   "cell_type": "markdown",
   "id": "9a61111c-df8f-4da6-818f-473d3482d3f1",
   "metadata": {},
   "source": [
    "Run the cell below. If that doesn't work, then just **paste** the link into a web browser and it should automatically download. Then you can put the `.csv` file in the same directory as this notebook."
   ]
  },
  {
   "cell_type": "code",
   "execution_count": 127,
   "id": "0d68d157-7a21-429f-b3e3-35d4f17265d9",
   "metadata": {},
   "outputs": [],
   "source": [
    "url = \"https://covid.ourworldindata.org/data/owid-covid-data.csv\""
   ]
  },
  {
   "cell_type": "markdown",
   "id": "bbf8921b-e0f1-482b-90db-2abe24f07f33",
   "metadata": {},
   "source": [
    "With the `pandas` function `read_csv`, import the data in the cell below as a dataframe `df`."
   ]
  },
  {
   "cell_type": "code",
   "execution_count": 129,
   "id": "e5f7f560-3847-44a6-a225-c2e050bb0c7c",
   "metadata": {},
   "outputs": [],
   "source": [
    "df = pd.read_csv(\"https://covid.ourworldindata.org/data/owid-covid-data.csv\")"
   ]
  },
  {
   "cell_type": "markdown",
   "id": "a47210a7-612b-48e8-879f-6cf1dc53eeae",
   "metadata": {},
   "source": [
    "Select **United States** as the country and make a new data frame called `df_country` with only this information."
   ]
  },
  {
   "cell_type": "code",
   "execution_count": 225,
   "id": "de9fcc71-294f-4dec-9285-153fa308d8f2",
   "metadata": {},
   "outputs": [],
   "source": [
    "country = ['United States']\n",
    "contains_us = df['location'].isin(country)\n",
    "df_country = df[contains_us]"
   ]
  },
  {
   "cell_type": "markdown",
   "id": "cf57a662-69a8-4e3b-bb2d-cc2c0f516a77",
   "metadata": {},
   "source": [
    "From your `df_country` dataframe, extract only the relevant columns: **\"date\"** and **\"total_cases\"**. \n",
    "\n",
    "*Hint: Use `.dropna()` to get rid of the other data.*"
   ]
  },
  {
   "cell_type": "markdown",
   "id": "a543c185-080d-4d17-8cac-4d90bde5354e",
   "metadata": {},
   "source": [
    "In your `df_country` dataframe, add a new column called **\"days since start\"** and covert the data to numerical days.\n",
    "\n",
    "*Hint: You can just take the length of your dataframe (`range(len(df_country))`).*"
   ]
  },
  {
   "cell_type": "code",
   "execution_count": 237,
   "id": "5ded2ed2-9ed5-494f-bec8-ab1e466e559d",
   "metadata": {},
   "outputs": [],
   "source": [
    "df_country = df_country[[\"date\", \"total_cases\"]]\n",
    "days_since_start = range(len(df_country))\n",
    "df_country[\"days_since_start\"] = days_since_start"
   ]
  },
  {
   "cell_type": "markdown",
   "id": "6ce228aa-f499-4565-8e72-11e7a6fbe67f",
   "metadata": {},
   "source": [
    "###### Print the first few rows of your `df_country` dataframe."
   ]
  },
  {
   "cell_type": "code",
   "execution_count": 239,
   "id": "dd274d52-a502-4fe3-ba5b-d5bf9326e1ac",
   "metadata": {},
   "outputs": [
    {
     "name": "stdout",
     "output_type": "stream",
     "text": [
      "              date  total_cases  days_since_start\n",
      "403451  2020-01-05          0.0                 0\n",
      "403452  2020-01-06          0.0                 1\n",
      "403453  2020-01-07          0.0                 2\n",
      "403454  2020-01-08          0.0                 3\n",
      "403455  2020-01-09          0.0                 4\n",
      "...            ...          ...               ...\n",
      "405120  2024-07-31  103436829.0              1669\n",
      "405121  2024-08-01  103436829.0              1670\n",
      "405122  2024-08-02  103436829.0              1671\n",
      "405123  2024-08-03  103436829.0              1672\n",
      "405124  2024-08-04  103436829.0              1673\n",
      "\n",
      "[1674 rows x 3 columns]\n"
     ]
    }
   ],
   "source": [
    "print(df_country)"
   ]
  },
  {
   "cell_type": "markdown",
   "id": "993623bc-b832-4393-9185-84b104e3eee1",
   "metadata": {},
   "source": [
    "In the cell below, import `curve_fit`. Make sure to have `numpy` imported in this notebook as well."
   ]
  },
  {
   "cell_type": "code",
   "execution_count": 233,
   "id": "4ef2edde-3d83-44ca-a74a-d61043389c8c",
   "metadata": {},
   "outputs": [],
   "source": [
    "from scipy.optimize import curve_fit"
   ]
  },
  {
   "cell_type": "markdown",
   "id": "14b3ea49-940d-4ad8-93bd-b6b04c01b4eb",
   "metadata": {},
   "source": [
    "### Some background:\n",
    "At the beginning of an outbreak, the number of cases follows an exponential growth model:\n",
    "\n",
    "$$\n",
    "C(t) = C_0 e^{rt}\n",
    "$$\n",
    "\n",
    "where\n",
    "* $C(t)$ = number of cases at time $t$.\n",
    "* $C_0$ = initial number of cases.\n",
    "* $r$ = growth rate.\n",
    "* $t$ = time in days.\n",
    "\n",
    "Write a **function** called `exponential_growth` that takes in arguments `t`, `C_0` and `r`. Return the function given above."
   ]
  },
  {
   "cell_type": "code",
   "execution_count": 235,
   "id": "a4439deb-ae5e-4c3d-a0bb-6b2b1c151107",
   "metadata": {},
   "outputs": [],
   "source": [
    "def exponential_growth(t, C_0, r):\n",
    "    return C_0*np.exp(r*t)"
   ]
  },
  {
   "cell_type": "markdown",
   "id": "3cf4bc0d-f721-41ec-9bd9-25181db97d48",
   "metadata": {},
   "source": [
    "Make a new variable called `days` and another new variable called `cases`. To the `days` variable give it the first 30 rows (your column **\"days_since_start\"**) and to the `cases` variable give it the first 30 rows (your column **\"total_cases\"**)."
   ]
  },
  {
   "cell_type": "code",
   "execution_count": 247,
   "id": "5b374d61-c495-43ef-8dab-6be89ea757c9",
   "metadata": {},
   "outputs": [],
   "source": [
    "days = df_country[\"days_since_start\"][0:30]\n",
    "cases = df_country[\"total_cases\"][0:30]"
   ]
  },
  {
   "cell_type": "markdown",
   "id": "1800f1b9-3b55-4d51-9aae-f353a2c3850c",
   "metadata": {},
   "source": [
    "With `curve_fit` fit the model. Give it the argument `p0 = [1, 0.1]`."
   ]
  },
  {
   "cell_type": "code",
   "execution_count": 249,
   "id": "3f93f54f-1c10-4d4c-a243-b1815b8f2721",
   "metadata": {},
   "outputs": [],
   "source": [
    "p0 = [1, 0.1]\n",
    "popt, pcov = curve_fit(exponential_growth, days, cases, p0)"
   ]
  },
  {
   "cell_type": "markdown",
   "id": "a87a4a14-b5e6-4377-87d2-cc09881176e4",
   "metadata": {},
   "source": [
    "Extract the best-fit parameters from `popt`. Call them `C0_fit` and `r_fit`."
   ]
  },
  {
   "cell_type": "code",
   "execution_count": 251,
   "id": "15c1be9c-df75-404a-a8bb-87dc0a0c5630",
   "metadata": {},
   "outputs": [],
   "source": [
    "C0_fit, r_fit = popt"
   ]
  },
  {
   "cell_type": "markdown",
   "id": "86eaeb8c-fbb6-4d41-a1a7-9e1d520af28a",
   "metadata": {},
   "source": [
    "Print your variables `C0_fit` with **two** significant digits. Print your variables `r_fit` with **four** significant digits."
   ]
  },
  {
   "cell_type": "code",
   "execution_count": 253,
   "id": "fb511de8-ce1a-431b-8144-eeb0e0bab9d3",
   "metadata": {},
   "outputs": [
    {
     "name": "stdout",
     "output_type": "stream",
     "text": [
      "0.12389530637464054\n",
      "0.15384247140899723\n"
     ]
    }
   ],
   "source": [
    "print(C0_fit)\n",
    "print(r_fit)"
   ]
  },
  {
   "cell_type": "markdown",
   "id": "e8799881-9b91-4d8b-af61-674cff2e7117",
   "metadata": {},
   "source": [
    "Make sure to have `matplotlib` imported. Make a variable called `future_days` give it a numpy range from `0` to `60`. We want to predict up to 60 days."
   ]
  },
  {
   "cell_type": "code",
   "execution_count": 285,
   "id": "6ba1a736-90a5-4fa8-b570-210ac997d0b9",
   "metadata": {},
   "outputs": [
    {
     "name": "stdout",
     "output_type": "stream",
     "text": [
      "[ 0  1  2  3  4  5  6  7  8  9 10 11 12 13 14 15 16 17 18 19 20 21 22 23\n",
      " 24 25 26 27 28 29 30 31 32 33 34 35 36 37 38 39 40 41 42 43 44 45 46 47\n",
      " 48 49 50 51 52 53 54 55 56 57 58 59]\n"
     ]
    }
   ],
   "source": [
    "import matplotlib.pyplot as plt\n",
    "future_days = np.array(list(range(60)))\n",
    "print(future_days)"
   ]
  },
  {
   "cell_type": "markdown",
   "id": "df1ecb07-802a-4f11-9e57-4df58afd87f7",
   "metadata": {},
   "source": [
    "Make a variable called `predicted_cases` set it equal to your function `exponential_growth` with inputs being `future_days` and your `curve_fit` outputs. \n",
    "\n",
    "*Hint: You will want to use `*popt` as your `curve_fit` input.*"
   ]
  },
  {
   "cell_type": "code",
   "execution_count": 287,
   "id": "a6d2a54f-c78f-4151-816e-b8c67db055ab",
   "metadata": {},
   "outputs": [
    {
     "name": "stdout",
     "output_type": "stream",
     "text": [
      "[1.23895306e-01 1.44499981e-01 1.68531361e-01 1.96559330e-01\n",
      " 2.29248551e-01 2.67374223e-01 3.11840467e-01 3.63701765e-01\n",
      " 4.24187968e-01 4.94733458e-01 5.77011167e-01 6.72972247e-01\n",
      " 7.84892340e-01 9.15425545e-01 1.06766735e+00 1.24522806e+00\n",
      " 1.45231839e+00 1.69384932e+00 1.97554856e+00 2.30409640e+00\n",
      " 2.68728410e+00 3.13419865e+00 3.65543828e+00 4.26336378e+00\n",
      " 4.97239164e+00 5.79933590e+00 6.76380691e+00 7.88867632e+00\n",
      " 9.20061957e+00 1.07307483e+01 1.25153485e+01 1.45967404e+01\n",
      " 1.70242826e+01 1.98555424e+01 2.31576610e+01 2.70089455e+01\n",
      " 3.15007261e+01 3.67395220e+01 4.28495670e+01 4.99757562e+01\n",
      " 5.82870815e+01 6.79806397e+01 7.92863058e+01 9.24721851e+01\n",
      " 1.07850970e+02 1.25787357e+02 1.46706694e+02 1.71105065e+02\n",
      " 1.99561060e+02 2.32749490e+02 2.71457393e+02 3.16602698e+02\n",
      " 3.69255989e+02 4.30665898e+02 5.02288714e+02 5.85822917e+02\n",
      " 6.83249454e+02 7.96878720e+02 9.29405346e+02 1.08397210e+03]\n"
     ]
    }
   ],
   "source": [
    "predicted_cases = exponential_growth(future_days, *popt)\n",
    "print(predicted_cases)"
   ]
  },
  {
   "cell_type": "markdown",
   "id": "a88e89ad-7d0d-4377-8366-133f80d088a2",
   "metadata": {},
   "source": [
    "**Scater** the variable `cases` as a function of `days`. **Plot** the variable `future_days` as a function of `predicted_cases`. \n",
    "\n",
    "Don't forget a label for your x-axis, y-axis, title and legend."
   ]
  },
  {
   "cell_type": "code",
   "execution_count": 291,
   "id": "d3a193a8-73e9-428f-9d2e-af77bb7d7c2c",
   "metadata": {},
   "outputs": [
    {
     "data": {
      "text/plain": [
       "(0.0, 60.0)"
      ]
     },
     "execution_count": 291,
     "metadata": {},
     "output_type": "execute_result"
    },
    {
     "data": {
      "image/png": "[encoded data removed]",
      "text/plain": [
       "<Figure size 640x480 with 1 Axes>"
      ]
     },
     "metadata": {},
     "output_type": "display_data"
    }
   ],
   "source": [
    "plt.scatter(days, cases, label = 'data')\n",
    "plt.plot(future_days, predicted_cases, label = 'model')\n",
    "plt.xlabel(\"days\")\n",
    "plt.ylabel(\"cases\")\n",
    "plt.title(\"days vs cases\")\n",
    "plt.legend()\n",
    "plt.xlim(0,60)"
   ]
  },
  {
   "cell_type": "markdown",
   "id": "91ad4480-392b-4a99-9f8c-2daca3c8e87d",
   "metadata": {},
   "source": [
    "How well does your exponential model fit the actual COVID-19 data? "
   ]
  },
  {
   "cell_type": "code",
   "execution_count": 293,
   "id": "1f5c58cf-6414-4be2-8634-8d839b0be46a",
   "metadata": {},
   "outputs": [],
   "source": [
    "# It seems to fit the actual data pretty well."
   ]
  },
  {
   "cell_type": "markdown",
   "id": "883911bb-6321-4881-b318-c6b50b705c17",
   "metadata": {},
   "source": [
    "Make another plot but this time to **90 days**."
   ]
  },
  {
   "cell_type": "code",
   "execution_count": 297,
   "id": "e7c92fd4-f182-450a-ae88-c5dd09e1dee0",
   "metadata": {},
   "outputs": [
    {
     "data": {
      "text/plain": [
       "<matplotlib.legend.Legend at 0x2220b141700>"
      ]
     },
     "execution_count": 297,
     "metadata": {},
     "output_type": "execute_result"
    },
    {
     "data": {
      "image/png": "[encoded data removed]",
      "text/plain": [
       "<Figure size 640x480 with 1 Axes>"
      ]
     },
     "metadata": {},
     "output_type": "display_data"
    }
   ],
   "source": [
    "future_days = np.array(list(range(90)))\n",
    "predicted_cases = exponential_growth(future_days, *popt)\n",
    "plt.scatter(days, cases, label = 'data')\n",
    "plt.plot(future_days, predicted_cases, label = 'model')\n",
    "plt.xlabel(\"days\")\n",
    "plt.ylabel(\"cases\")\n",
    "plt.title(\"days vs cases\")\n",
    "plt.legend()"
   ]
  },
  {
   "cell_type": "markdown",
   "id": "aed64d69-54f1-4136-a82a-840be2ff4199",
   "metadata": {},
   "source": [
    "What does your model predict the number of cases to be at 87 days? Print in the cell below."
   ]
  },
  {
   "cell_type": "code",
   "execution_count": 299,
   "id": "a80d00ab-2012-4773-b28c-076f43e9f831",
   "metadata": {},
   "outputs": [
    {
     "name": "stdout",
     "output_type": "stream",
     "text": [
      "80497.11619903105\n"
     ]
    }
   ],
   "source": [
    "print(predicted_cases[87])"
   ]
  },
  {
   "cell_type": "markdown",
   "id": "77634fad-6580-4aab-b470-44803153677d",
   "metadata": {},
   "source": [
    "## 3 Seaborn\n",
    "Use Seaborn to visualize your data, NOT matplotlib. \n",
    "1) Go to this website and **pick a dataset that interest you**: https://github.com/mwaskom/seaborn-data\n",
    "2) Go to this website for documentation: https://seaborn.pydata.org/index.html\n",
    "3) Import seaborn data (*Hint: You can use the function `sns.load dataset()`. For example, `sns.load dataset('planets')`.*\n",
    "4) Make a cool plot!\n",
    "5) With `scipy` add a model to your data. (This can be a different plot.)"
   ]
  },
  {
   "cell_type": "code",
   "execution_count": 329,
   "id": "839aa5ca-24a9-4201-ad69-abbf0ae1c768",
   "metadata": {},
   "outputs": [
    {
     "data": {
      "text/plain": [
       "<seaborn.axisgrid.FacetGrid at 0x2220dc350d0>"
      ]
     },
     "execution_count": 329,
     "metadata": {},
     "output_type": "execute_result"
    },
    {
     "data": {
      "image/png": "[encoded data removed]",
      "text/plain": [
       "<Figure size 640x480 with 1 Axes>"
      ]
     },
     "metadata": {},
     "output_type": "display_data"
    },
    {
     "data": {
      "image/png": "[encoded data removed]",
      "text/plain": [
       "<Figure size 500x500 with 1 Axes>"
      ]
     },
     "metadata": {},
     "output_type": "display_data"
    }
   ],
   "source": [
    "import seaborn as sns\n",
    "\n",
    "dataset = sns.load_dataset('car_crashes')\n",
    "sns.scatterplot(x = dataset['speeding'], y = dataset['alcohol'], hue = dataset['no_previous'], size = dataset['not_distracted'])\n",
    "sns.lmplot(\n",
    "    data=dataset, x=\"speeding\", y=\"alcohol\"\n",
    ")"
   ]
  },
  {
   "cell_type": "markdown",
   "id": "affefbb6-f295-4e2e-9d3e-9f66fd68dd2f",
   "metadata": {},
   "source": [
    "On it's own branch, submit this notebook to Gradescope! "
   ]
  }
 ],
 "metadata": {
  "kernelspec": {
   "display_name": "Python 3 (ipykernel)",
   "language": "python",
   "name": "python3"
  },
  "language_info": {
   "codemirror_mode": {
    "name": "ipython",
    "version": 3
   },
   "file_extension": ".py",
   "mimetype": "text/x-python",
   "name": "python",
   "nbconvert_exporter": "python",
   "pygments_lexer": "ipython3",
   "version": "3.12.4"
  }
 },
 "nbformat": 4,
 "nbformat_minor": 5
}
