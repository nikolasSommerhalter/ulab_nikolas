{
 "cells": [
  {
   "cell_type": "markdown",
   "id": "21a1f0d2-d75c-4443-b816-1d1db3760454",
   "metadata": {},
   "source": [
    "# HW 6 - Iterables\n",
    "ULAB - Physics and Astronomy Division \\\n",
    "Due **Wednesday, October 30th, 2024 at 11:59pm** on Gradescope\n",
    "\n",
    "### REMINDER: Once you are done with this homework, make sure to include a screenshot of you pushing this notebook inside of your homework6 branch. Make sure to include this screenshot in your branch before submitting to Gradescope!\n",
    "\n",
    "### If there is no screenshot, then you will recieve a zero! \n",
    "\n",
    "General Tip (so you don't get silly points taken off):\n",
    "- Make sure **each function** follows good coding practices (i.e. a comment, detailed names, different steps on each line, etc)."
   ]
  },
  {
   "cell_type": "markdown",
   "id": "8dc7e46b-1e8e-486c-a2e9-d615c687028b",
   "metadata": {},
   "source": [
    "# 1 Lists\n",
    "\n",
    "## 1.1 List Slicing and Striding\n",
    "Write a **function** that takes in a list of integers and returns:\n",
    "\n",
    "- the first 5 elements\n",
    "- the last 5 elements\n",
    "- every 2nd element in the list\n",
    "- the list in reverse order.\n",
    "\n",
    "Use the test case below, along with two other ones (that you make-up):\n",
    "\n",
    "```\n",
    "list = [1, 2, 3, 4, 5, 6, 7, 8, 9, 10, 11, 12, 14, 15, 16, 17, 18, 19, 20]\n",
    "```"
   ]
  },
  {
   "cell_type": "code",
   "execution_count": 39,
   "id": "08dabd73-3dbc-4aab-843a-d4b81102835d",
   "metadata": {},
   "outputs": [
    {
     "name": "stdout",
     "output_type": "stream",
     "text": [
      "[1, 2, 3, 4, 5]\n",
      "[20, 19, 18, 17, 16]\n",
      "[1, 3, 5, 7, 9, 11, 14, 16, 18, 20]\n",
      "[20, 19, 18, 17, 16, 15, 14, 12, 11, 10, 9, 8, 7, 6, 5, 4, 3, 2, 1]\n",
      "[5, 10, 15, 20, 25]\n",
      "[40, 35, 30, 25, 20]\n",
      "[5, 15, 25, 35]\n",
      "[40, 35, 30, 25, 20, 15, 10, 5]\n",
      "[2, 4, 8, 16, 32]\n",
      "[128, 64, 32, 16, 8]\n",
      "[2, 8, 32, 128]\n",
      "[128, 64, 32, 16, 8, 4, 2]\n"
     ]
    }
   ],
   "source": [
    "def first_5_in_list(integer_list):\n",
    "    # Goes through given list of integers and add the first 5 elements to a new list to return\n",
    "    first_5 =[]\n",
    "    for i in range(5):\n",
    "        first_5.append(integer_list[i])\n",
    "    return first_5\n",
    "\n",
    "def last_5_in_list(integer_list):\n",
    "    # goes through list of integers starting from the back and returns a list of the first 5 integers from there\n",
    "    last_5 = []\n",
    "    for i in range(5):\n",
    "        last_5.append(integer_list[len(integer_list) - i - 1])\n",
    "    return last_5\n",
    "\n",
    "def every_second_element(integer_list):\n",
    "    # goes through list starting at index 0 and jumping by 2\n",
    "    every_second = integer_list[::2]\n",
    "    return every_second\n",
    "\n",
    "def reverse_list_order(integer_list):\n",
    "    # oes through list starting from the end and working down\n",
    "    reverse_order = integer_list[::-1]\n",
    "    return reverse_order\n",
    "\n",
    "list = [1, 2, 3, 4, 5, 6, 7, 8, 9, 10, 11, 12, 14, 15, 16, 17, 18, 19, 20]\n",
    "print(first_5_in_list(list))\n",
    "print(last_5_in_list(list))\n",
    "print(every_second_element(list))\n",
    "print(reverse_list_order(list))\n",
    "\n",
    "list_two = [5,10,15,20,25,30,35,40]\n",
    "print(first_5_in_list(list_two))\n",
    "print(last_5_in_list(list_two))\n",
    "print(every_second_element(list_two))\n",
    "print(reverse_list_order(list_two))\n",
    "\n",
    "list_three = [ 2, 4, 8, 16, 32, 64, 128]\n",
    "print(first_5_in_list(list_three))\n",
    "print(last_5_in_list(list_three))\n",
    "print(every_second_element(list_three))\n",
    "print(reverse_list_order(list_three))"
   ]
  },
  {
   "cell_type": "markdown",
   "id": "92c77920-20fc-455e-bf52-10b5a518ed2d",
   "metadata": {},
   "source": [
    "## 1.2 Iterating Over Lists with For Loops\n",
    "Write a **function** that takes in a list, with a **for** loop to return: \n",
    "- the square of each number in the list\n",
    "- the cube of each even number in the list\n",
    "\n",
    "Use the test case below, along with two other ones (that you make-up):\n",
    "\n",
    "```\n",
    "list = [1, 2, 3, 4, 5, 6]\n",
    "```"
   ]
  },
  {
   "cell_type": "code",
   "execution_count": 47,
   "id": "5054c807-a247-4159-9ce1-43020bcc3000",
   "metadata": {},
   "outputs": [
    {
     "name": "stdout",
     "output_type": "stream",
     "text": [
      "[1, 4, 9, 16, 25, 36]\n",
      "[8, 64, 216]\n",
      "[4, 16, 36, 400]\n",
      "[8, 64, 216, 8000]\n",
      "[100, 400, 900, 1600]\n",
      "[1000, 8000, 27000, 64000]\n"
     ]
    }
   ],
   "source": [
    "def square_list_elements(list):\n",
    "    # goes through given list and squares each number\n",
    "    squared_list = []\n",
    "    for element in list:\n",
    "        squared_list.append(element**2)\n",
    "    return squared_list\n",
    "\n",
    "def cube_even_numbers(list):\n",
    "    # goes through given list and if the number is even cubes it\n",
    "    cubed_list = []\n",
    "    for element in list:\n",
    "        if element % 2 == 0:\n",
    "            cubed_list.append(element**3)\n",
    "    return cubed_list\n",
    "\n",
    "list = [1, 2, 3, 4, 5, 6]\n",
    "print(square_list_elements(list))\n",
    "print(cube_even_numbers(list))\n",
    "\n",
    "list = [2,4,6, 20]\n",
    "print(square_list_elements(list))\n",
    "print(cube_even_numbers(list))\n",
    "\n",
    "list = [10,20,30,40]\n",
    "print(square_list_elements(list))\n",
    "print(cube_even_numbers(list))"
   ]
  },
  {
   "cell_type": "markdown",
   "id": "e2e075da-c004-400d-b796-5435e096816d",
   "metadata": {},
   "source": [
    "# 2 Dictionaries\n",
    "We have not fully covered **dictionaries** in class, but a **dictionary** is a collection of key-value pairs. Each key is unique and is associated with a specific value. Like a real dictionary! \n",
    "\n",
    "You can create a dictionary by placing key-value pairs inside of curly brackets `{}` with a `:` separating the key from the value. \n",
    "\n",
    "Run the cell below for an example:"
   ]
  },
  {
   "cell_type": "code",
   "execution_count": 49,
   "id": "dbdb0f41-4f57-4524-ab51-ff1fc502bdfc",
   "metadata": {},
   "outputs": [
    {
     "name": "stdout",
     "output_type": "stream",
     "text": [
      "{'Mercury': 0.39, 'Venus': 0.72, 'Earth': 1.0, 'Mars': 1.52, 'Jupiter': 5.2, 'Saturn': 9.58, 'Uranus': 19.22, 'Neptune': 30.05}\n"
     ]
    }
   ],
   "source": [
    "# A dictionary that contains some data about the planets in our solar system\n",
    "planet_data = {\n",
    "    \"Mercury\": 0.39, \n",
    "    \"Venus\": 0.72,\n",
    "    \"Earth\": 1.00, # distance from the Sun in AU\n",
    "    \"Mars\": 1.52,\n",
    "    \"Jupiter\": 5.20,\n",
    "    \"Saturn\": 9.58,\n",
    "    \"Uranus\": 19.22,\n",
    "    \"Neptune\": 30.05\n",
    "}   \n",
    "\n",
    "print(planet_data) # print the dictonary"
   ]
  },
  {
   "cell_type": "markdown",
   "id": "886c93f4-0027-4969-ba67-cc12eca04c9c",
   "metadata": {},
   "source": [
    "## 2.1 Looping through a dictionary\n",
    "Write a function that takes in the `planet_data` dictionary and uses a `for` loop to print the names of each of the planets and its distance from the sun."
   ]
  },
  {
   "cell_type": "code",
   "execution_count": 69,
   "id": "a3ab065a-42f5-4aa0-8e0f-38e87c583464",
   "metadata": {},
   "outputs": [
    {
     "name": "stdout",
     "output_type": "stream",
     "text": [
      "Mercury: 0.39\n",
      "Venus: 0.72\n",
      "Earth: 1.0\n",
      "Mars: 1.52\n",
      "Jupiter: 5.2\n",
      "Saturn: 9.58\n",
      "Uranus: 19.22\n",
      "Neptune: 30.05\n"
     ]
    }
   ],
   "source": [
    "def print_dictionary(dictionary):\n",
    "    # Goes through given dictionary and prints the name and its assigned value\n",
    "    for element in dictionary:\n",
    "        print(element + \": \" + str(dictionary[element]))\n",
    "    return\n",
    "\n",
    "print_dictionary(planet_data)"
   ]
  },
  {
   "cell_type": "markdown",
   "id": "2b38b6fb-ce68-4f20-a8a1-ba241e8db53e",
   "metadata": {},
   "source": [
    "## 2.2 Dictionaries and Conditionals\n",
    "Write a function that uses a while loop to print all the planets that are a minimum distance of 5 AU from the Sun. "
   ]
  },
  {
   "cell_type": "code",
   "execution_count": 107,
   "id": "6e07cf13-efba-4a75-ad75-0428dc31108d",
   "metadata": {},
   "outputs": [
    {
     "name": "stdout",
     "output_type": "stream",
     "text": [
      "Jupiter\n",
      "Saturn\n",
      "Uranus\n",
      "Neptune\n"
     ]
    }
   ],
   "source": [
    "planets = [\"Mercury\", \"Venus\", \"Earth\", \"Mars\", \"Jupiter\", \"Saturn\", \"Uranus\", \"Neptune\"]\n",
    "def planets_over_five_au(dictionary):\n",
    "    # goes through list of planets and checks if their dictionary value is greater than 5 then prints that planet if so\n",
    "    i = 0\n",
    "    while i < len(planets):\n",
    "        if dictionary[planets[i]] > 5:\n",
    "            print(planets[i])\n",
    "        i += 1\n",
    "    return\n",
    "\n",
    "planets_over_five_au(planet_data)"
   ]
  },
  {
   "cell_type": "markdown",
   "id": "5e1ba0c0-5dd9-44e8-895c-73a36d614949",
   "metadata": {},
   "source": [
    "# 3 Observing Stars in a Cluster\n",
    "Your goal is to calculate the total brightness of a group of stars in a star cluster and estimate how long it would take for a telescope to observer each star, depending on their brightness (magnitude). Here is some background information:\n",
    "- The brightness of a star, from a telescope, is measured by its **apparent magnitude**, a LOWER magnitude means a brighter star. A HIGHER magnitude means a fainter star. So a 4th magnitude star is much brighter than a 17th magnitude star.\n",
    "- To convert magnitude into brightness, use the following formula\n",
    "$$\n",
    "\\text{Brightness} = 10^{-\\frac{\\text{magnitude}}{2.5}}\n",
    "$$\n",
    "\n",
    "Use this list of magnitudes and time limit:\n",
    "\n",
    "```\n",
    "magnitudes = [12.5, 13.2, 14.8, 19.1, 21.0, 18.5, 15.3, 10.5, 23.0]\n",
    "time_limit = 500\n",
    "```\n",
    "\n",
    "Expected outcome (your solutions with be the answers to the ???):\n",
    "- Total brightness of the stars: ???\n",
    "- Total observation time for all observable stars: ???\n",
    "- Number of stars that can be observed within 500 seconds: ???"
   ]
  },
  {
   "cell_type": "markdown",
   "id": "336785a7-71bf-434d-982c-dd72dd29cf71",
   "metadata": {},
   "source": [
    "## 3.1 Calculate Brightness\n",
    "1) Write a **function** which inputs a list of star magnitudes (brightnesses).\n",
    "2) Inside your function, use a `for` loop to calculate (with the given formula) the brightness of each star.\n",
    "3) Inside your function, use a `for` loop to sum up the total brightness of all the stars.\n",
    "5) Have your function return the **total brightness** of all the stars and a **list of the brightnesses** of the stars.\n",
    "6) Test out your function with the **given** magnitude values."
   ]
  },
  {
   "cell_type": "code",
   "execution_count": 121,
   "id": "ccc331f4-c029-4a82-810b-4a78d0fa1a2a",
   "metadata": {},
   "outputs": [
    {
     "name": "stdout",
     "output_type": "stream",
     "text": [
      "[1e-05, 5.248074602497734e-06, 1.2022644346174132e-06, 2.29086765276777e-08, 3.981071705534969e-09, 3.981071705534969e-08, 7.585775750291836e-07, 6.309573444801929e-05, 6.309573444801942e-10]\n",
      "8.037198248279666e-05\n"
     ]
    }
   ],
   "source": [
    "def star_brightness(star_magnitudes):\n",
    "    # go through each element in the magnitudes list and apply the given formula to convert to brightness then return new list\n",
    "    brightness_list = []\n",
    "    for element in star_magnitudes:\n",
    "        brightness_list.append(10**(-element/2.5))\n",
    "    return brightness_list\n",
    "\n",
    "def total_brightness(brightness_list):\n",
    "    # sum the brightnesses of all the stars in the list\n",
    "    total_brightness = 0\n",
    "    for element in brightness_list:\n",
    "        total_brightness += element\n",
    "    return total_brightness\n",
    "    \n",
    "magnitudes = [12.5, 13.2, 14.8, 19.1, 21.0, 18.5, 15.3, 10.5, 23.0]\n",
    "brightness_list = star_brightness(magnitudes)\n",
    "print(brightness_list)\n",
    "print(total_brightness(brightness_list))"
   ]
  },
  {
   "cell_type": "markdown",
   "id": "9aff0e1c-9f88-4ebb-a05b-d39363d9e88e",
   "metadata": {},
   "source": [
    "## 3.2 Observation Time\n",
    "1) Write a **function** which inputs a list of star magnitudes (brightnesses).\n",
    "2) Inside your function, use a `for` loop to calculate the time to observe each star.\n",
    "- You can just assume each star's observation time is inversely proportional to its brightness with the following formula:\n",
    "\n",
    "$$\n",
    "\\text{Observation Time (in seconds)} \\propto \\frac{1}{\\text{Brightness}} \n",
    "$$\n",
    "\n",
    "3) Inside you function, write a `condition` that ignores stars that have a magnitude greater than 20 (very very faint stars).\n",
    "4) Have your function return the **total observation time** (ignoring >20 magnitudes) and a **list of the times** it would take to observe each individual star.\n",
    "5) Test out your function with the **given** magnitude values."
   ]
  },
  {
   "cell_type": "code",
   "execution_count": 148,
   "id": "044d17cf-82a8-44b6-8958-447632f713f6",
   "metadata": {},
   "outputs": [
    {
     "name": "stdout",
     "output_type": "stream",
     "text": [
      "[99999.99999999999, 190546.07179632442, 831763.7711026708, 43651583.22401666, 25118864.315095823, 1318256.7385564074, 15848.931924611143]\n",
      "71226863.0524925\n"
     ]
    }
   ],
   "source": [
    "def observation_time_list(list_of_magnitudes):\n",
    "    # Goes through list of magnitudes and as long as the magnitude is less than 20 it will convert it to brightness and then to observation time based off given formula\n",
    "    observation_times =[];\n",
    "    for element in list_of_magnitudes:\n",
    "        if (element<20):\n",
    "            observation_times.append(1/(10**(-element/2.5)))\n",
    "    return observation_times\n",
    "\n",
    "def total_observation_time(observation_times):\n",
    "    # sums up list of observation times\n",
    "    total_time = 0\n",
    "    for element in observation_times:\n",
    "        total_time += element\n",
    "    return total_time\n",
    "\n",
    "observation_times = observation_time_list(magnitudes)\n",
    "print(observation_times)\n",
    "print(total_observation_time(observation_times))"
   ]
  },
  {
   "cell_type": "markdown",
   "id": "102d3c15-0b4f-48a7-8fdc-f896c1841aca",
   "metadata": {},
   "source": [
    "## 3.3 Time Until the Limit\n",
    "1) Write a **function** which inputs a list of star magnitudes (brightnesses) and time limit.\n",
    "   - Make your time limit a default argument.\n",
    "2) Inside your function, make a counter called `total time` and set it to 0.\n",
    "3) Inside your function, use a `while` loop to set the time limit of your observation.\n",
    "4) Inside your function, use assigment operators to update the `total time` observed. \n",
    "5) Inside your function, use a `condition` to skip stars with magnitude 20 or greater. \n",
    "6) Have your function return the **number of stars that can be observed** within the time limit and **how long the observation will take** (this should be less than the time limit).\n",
    "7) Test out your function with the **given** magnitude values and time limit."
   ]
  },
  {
   "cell_type": "code",
   "execution_count": 166,
   "id": "5a541a62-0903-41bd-91c9-ee21172069a3",
   "metadata": {},
   "outputs": [
    {
     "name": "stdout",
     "output_type": "stream",
     "text": [
      "[0, 0.0]\n"
     ]
    }
   ],
   "source": [
    "def stars_observed_in_time_limit(star_magnitudes, time_limit):\n",
    "    # Runs with a while loop that has its condition set to false once the observation time exceeds the time limit. Then it will return the number of stars observed which was tracked with an incremented index and the total time which was added on for each star observed.\n",
    "    total_time = 0;\n",
    "    stars_observed = 0;\n",
    "    star_magnitudes_index = 0;\n",
    "    star_observation_times = observation_time_list(star_magnitudes)\n",
    "    within_time_limit = True\n",
    "    \n",
    "    while within_time_limit:\n",
    "        if (star_magnitudes[star_magnitudes_index] < 20):\n",
    "            current_star_observation_time = star_observation_times[stars_observed]\n",
    "            total_time += current_star_observation_time\n",
    "            if (total_time>time_limit):\n",
    "                within_time_limit = False\n",
    "                total_time -= current_star_observation_time\n",
    "            else:\n",
    "                stars_observed += 1\n",
    "        star_magnitudes_index += 1\n",
    "    \n",
    "    return [stars_observed, total_time]\n",
    "\n",
    "time_limit = 500\n",
    "stars_observed_and_time = stars_observed_in_time_limit(magnitudes, time_limit)\n",
    "print(stars_observed_and_time)"
   ]
  },
  {
   "cell_type": "markdown",
   "id": "d2ab246f-9570-483e-b35b-cf1056f20936",
   "metadata": {},
   "source": [
    "## 3.4 Call Upon Your Functions\n",
    "You do not need to rewrite your functions once you have written them! That's what is so awesome about **functions**! \n",
    "\n",
    "1) With a new test case (different magnitudes and time limit) call your three functions you wrote above.\n",
    "2) Print out their return statements, example:\n",
    "\n",
    "```\n",
    ">>> my_return = my_function(my_argument):\n",
    ">>> print(my_return)\n",
    "```"
   ]
  },
  {
   "cell_type": "code",
   "execution_count": 168,
   "id": "4c4c9389-04f5-49bc-823c-a12d6c003b60",
   "metadata": {},
   "outputs": [
    {
     "name": "stdout",
     "output_type": "stream",
     "text": [
      "[0.01445439770745928, 0.001584893192461114, 0.06309573444801933, 0.003981071705534973, 2.511886431509582e-10, 2.511886431509572e-22, 6.30957344480193e-08, 2.5118864315095823e-12, 2.511886431509582e-08]\n",
      "[69.18309709189363, 630.957344480193, 15.848931924611133, 251.18864315095794, 15848931.924611142, 39810717.05534969]\n",
      "[5, 15849899.102627791]\n"
     ]
    }
   ],
   "source": [
    "new_magnitudes = [4.6, 7, 3,6, 24, 54, 18, 29, 19]\n",
    "time_limit = 50000000\n",
    "\n",
    "star_brightness = star_brightness(new_magnitudes)\n",
    "print(star_brightness)\n",
    "\n",
    "observation_times = observation_time_list(new_magnitudes)\n",
    "print(observation_times)\n",
    "\n",
    "stars_observed = stars_observed_in_time_limit(new_magnitudes, time_limit)\n",
    "print(stars_observed)"
   ]
  },
  {
   "cell_type": "markdown",
   "id": "daba92d4-a646-4efc-824d-85b52ea3c573",
   "metadata": {},
   "source": [
    "# 4 Debug the Quadratic Function!\n",
    "The code below does not follow proper coding hygiene (good coding sklls) and is riddled with bugs! Answer the following question and follow the steps below:\n",
    "1) When you run the cell, what is the first error you get? What does this mean? What are three other things wrong with this function?\n",
    "2) Fix the bugs! No importing packages.\n",
    "3) Rewrite the code, such that it follows \"good coding skills\".\n",
    "\n",
    "Try out the test case of `a = 2`, `b = -5` and `c = 3`. You should get `(1.5, 1.0)`. Try out your own test case as well."
   ]
  },
  {
   "cell_type": "code",
   "execution_count": 174,
   "id": "cd66dd28-f8d3-447c-8d20-ff3e31bfaa07",
   "metadata": {},
   "outputs": [
    {
     "name": "stdout",
     "output_type": "stream",
     "text": [
      "[1.0, 1.5]\n"
     ]
    }
   ],
   "source": [
    "def quadratic_function(a, b, c):\n",
    "    # Returns the result of using the quadratic formula given 3 numbers. \n",
    "    bottom = 2 * a\n",
    "    if bottom != 0:\n",
    "        pos_answer = (-b + (b**2 - 4 * a * c)**(1/2)) / bottom \n",
    "        neg_answer = (-b - (b**2 - 4 * a * c)**(1/2)) / bottom \n",
    "    \n",
    "    return [neg_answer, pos_answer]\n",
    "\n",
    "a = 2\n",
    "b = -5\n",
    "c = 3\n",
    "print(quadratic_function(a,b,c))\n",
    "\n",
    "a = 1\n",
    "b = 1\n",
    "c = 1\n",
    "print(quadratic\n",
    "\n",
    "# First error: invalid decimal literal. This means that you can't use letters (in this case a) when trying to define a decimal. \n",
    "# The function sets c as a string, and also sets b as a list when they should be floats as default values. There's two division signs for ottom which makes it floor division instead of regular."
   ]
  },
  {
   "cell_type": "markdown",
   "id": "8cf33b19-9bca-484e-8129-d8a4896a1bfa",
   "metadata": {},
   "source": [
    "# 5 Proper Submission\n",
    "To recieve full credit for this assignment make sure you do the following:\n",
    "1) Copy this jupter notebook from the `ulab_2024` repository into **YOUR** local `homework` branch.\n",
    "   \n",
    "3) Follow the tasks. Make sure to run all the cells so that all output is visible.\n",
    "   \n",
    "5) Push this notebook to your remote `homework6` branch. Refer to the lecture slides for more information.\n",
    "      \n",
    "6) **WARNING!! IF YOU DO NOT FOLLOW THIS STEP YOU WILL RECIEVE A ZERO!**\n",
    "   1) Take a screenshot of your command line when you `push` this notebook from your local `homework6` branch to your remote `homework6` branch. Make sure to prove that you are inside a branch besides `main` or `master` by calling `git branch` and make sure to prove that your `homework6` branch only contains the homework4 folder of Jupyter Notebook you copied over from `ulab_2024` (which can be done by calling `ls`). You could also call `git status` before/after as a way to prove you pushed the proper files to the correct branches.\n",
    "   2)  Include that screenshot in your remote branch when you upload your GitHub branch to Gradescope!"
   ]
  },
  {
   "cell_type": "code",
   "execution_count": null,
   "id": "b0926042-d1cf-4a2e-8fc8-d93395a6a7cf",
   "metadata": {},
   "outputs": [],
   "source": []
  }
 ],
 "metadata": {
  "kernelspec": {
   "display_name": "Python 3 (ipykernel)",
   "language": "python",
   "name": "python3"
  },
  "language_info": {
   "codemirror_mode": {
    "name": "ipython",
    "version": 3
   },
   "file_extension": ".py",
   "mimetype": "text/x-python",
   "name": "python",
   "nbconvert_exporter": "python",
   "pygments_lexer": "ipython3",
   "version": "3.12.4"
  }
 },
 "nbformat": 4,
 "nbformat_minor": 5
}
